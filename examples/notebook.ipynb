{
 "cells": [
  {
   "cell_type": "code",
   "execution_count": 1,
   "metadata": {},
   "outputs": [],
   "source": [
    "import bare"
   ]
  },
  {
   "cell_type": "markdown",
   "metadata": {},
   "source": [
    "#### Plot tsai camera positions before and after bundle adjustment"
   ]
  },
  {
   "cell_type": "code",
   "execution_count": 2,
   "metadata": {},
   "outputs": [
    {
     "name": "stdout",
     "output_type": "stream",
     "text": [
      "plotting tsai camera positions before and after bundle adjustment...\n"
     ]
    }
   ],
   "source": [
    "ba_dir = './bundle_adjust_putput_directory/'\n",
    "img_dir = '/input_image_directory/'\n",
    "input_cam_dir = '/input_cameras_directory/'\n",
    "\n",
    "#optional. \n",
    "#contextily dependancdy may fail to plot if extent of camera positions is \n",
    "#too small to retrieve a stamen tile.\n",
    "glacier_shape_fn = '/input_glacier_shapefile/glacier.gpkg' \n",
    "\n",
    "bare.plot.plot_tsai_camera_positions_before_and_after(ba_dir,\n",
    "                                                      input_cam_dir,\n",
    "                                                      glacier_shape_fn=glacier_shape_fn)"
   ]
  },
  {
   "cell_type": "markdown",
   "metadata": {},
   "source": [
    "!['example_plot_0'](example_plots/camera_positions/xy_camera_positions_before_and_after_bundle_adjust.png)"
   ]
  },
  {
   "cell_type": "markdown",
   "metadata": {},
   "source": [
    "!['example_plot_1'](example_plots/camera_positions/z_camera_positions_before_and_after_bundle_adjust.png)"
   ]
  },
  {
   "cell_type": "markdown",
   "metadata": {},
   "source": [
    "#### Plot detected interest points over images"
   ]
  },
  {
   "cell_type": "code",
   "execution_count": 3,
   "metadata": {},
   "outputs": [
    {
     "name": "stdout",
     "output_type": "stream",
     "text": [
      "plotting interest points over images...\n"
     ]
    }
   ],
   "source": [
    "ba_dir = './bundle_adjust_putput_directory/'\n",
    "img_dir = '/input_image_directory/'\n",
    "\n",
    "bare.plot.plot_ip_over_images(ba_dir, \n",
    "                              img_dir, \n",
    "                              img_extension='8.tif',\n",
    "                              out_dir='qc_plots/interest_points/')"
   ]
  },
  {
   "cell_type": "markdown",
   "metadata": {},
   "source": [
    "!['example_plot_2'](example_plots/interest_points/v3_sub8_interest_points.png)"
   ]
  },
  {
   "cell_type": "markdown",
   "metadata": {},
   "source": [
    "!['example_plot_3'](example_plots/interest_points/v4_sub8_interest_points.png)"
   ]
  },
  {
   "cell_type": "markdown",
   "metadata": {},
   "source": [
    "#### Plot match points found between two images"
   ]
  },
  {
   "cell_type": "code",
   "execution_count": 4,
   "metadata": {},
   "outputs": [
    {
     "name": "stdout",
     "output_type": "stream",
     "text": [
      "plotting match points over images...\n",
      "    processing clean.match files only.\n"
     ]
    }
   ],
   "source": [
    "ba_dir = './bundle_adjust_putput_directory/'\n",
    "img_dir = '/input_image_directory/'\n",
    "\n",
    "bare.plot.plot_mp_over_images(ba_dir, \n",
    "                              img_dir, \n",
    "                              img_extension='8.tif',\n",
    "                              out_dir='qc_plots/match_points/')"
   ]
  },
  {
   "cell_type": "markdown",
   "metadata": {},
   "source": [
    "!['example_plot_4'](example_plots/match_points/v3_sub8__v4_sub8_match_points.png)"
   ]
  },
  {
   "cell_type": "markdown",
   "metadata": {},
   "source": [
    "#### Plot dxdy after bundle adjustment"
   ]
  },
  {
   "cell_type": "code",
   "execution_count": 5,
   "metadata": {},
   "outputs": [
    {
     "name": "stdout",
     "output_type": "stream",
     "text": [
      "plotting dxdy...\n",
      "    processing clean.match files only.\n"
     ]
    }
   ],
   "source": [
    "ba_dir = './bundle_adjust_putput_directory/'\n",
    "\n",
    "bare.plot.plot_dxdy(ba_dir, \n",
    "                    out_dir='qc_plots/dxdy')"
   ]
  },
  {
   "cell_type": "markdown",
   "metadata": {},
   "source": [
    "!['example_plot_5'](example_plots/dxdy/v3_sub8__v4_sub8_dxdy_plot.png)"
   ]
  },
  {
   "cell_type": "markdown",
   "metadata": {},
   "source": [
    "#### Plot residuals after bundle adjustment\n",
    "The second figure shows outliers for poor matches. Could option to remove outliers during plotting."
   ]
  },
  {
   "cell_type": "code",
   "execution_count": 6,
   "metadata": {},
   "outputs": [
    {
     "name": "stdout",
     "output_type": "stream",
     "text": [
      "plotting residuals before and after bundle adjustment...\n"
     ]
    }
   ],
   "source": [
    "ba_dir = './bundle_adjust_putput_directory/'\n",
    "\n",
    "bare.plot.plot_residuals(ba_dir)"
   ]
  },
  {
   "cell_type": "markdown",
   "metadata": {},
   "source": [
    "!['example_plot_6'](example_plots/residuals/residuals_before_and_after.png)"
   ]
  },
  {
   "cell_type": "markdown",
   "metadata": {},
   "source": [
    "#### Run all"
   ]
  },
  {
   "cell_type": "code",
   "execution_count": 7,
   "metadata": {},
   "outputs": [
    {
     "name": "stdout",
     "output_type": "stream",
     "text": [
      "plotting tsai camera positions before and after bundle adjustment...\n",
      "plotting interest points over images...\n",
      "plotting match points over images...\n",
      "    processing clean.match files only.\n",
      "plotting dxdy...\n",
      "    processing clean.match files only.\n",
      "plotting residuals before and after bundle adjustment...\n"
     ]
    }
   ],
   "source": [
    "ba_dir = './bundle_adjust_putput_directory/'\n",
    "img_dir = '/input_image_directory/'\n",
    "input_cam_dir = '/input_cameras_directory/'\n",
    "\n",
    "#optional. ctx may fail to plot if extent of camera positions is too small to retrieve a stamen tile.\n",
    "glacier_shape_fn = '/input_glacier_shapefile/glacier.gpkg' \n",
    "\n",
    "bare.plot.plot_all_qc_products(ba_dir,\n",
    "                               img_dir,\n",
    "                               input_cam_dir,\n",
    "                               glacier_shape_fn=glacier_shape_fn,\n",
    "                               img_extension='8.tif')"
   ]
  }
 ],
 "metadata": {
  "kernelspec": {
   "display_name": "Python 3",
   "language": "python",
   "name": "python3"
  },
  "language_info": {
   "codemirror_mode": {
    "name": "ipython",
    "version": 3
   },
   "file_extension": ".py",
   "mimetype": "text/x-python",
   "name": "python",
   "nbconvert_exporter": "python",
   "pygments_lexer": "ipython3",
   "version": "3.7.3"
  }
 },
 "nbformat": 4,
 "nbformat_minor": 2
}
