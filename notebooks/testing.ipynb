{
 "cells": [
  {
   "cell_type": "code",
   "execution_count": 1,
   "metadata": {},
   "outputs": [],
   "source": [
    "import funcs as dgtm"
   ]
  },
  {
   "cell_type": "code",
   "execution_count": 2,
   "metadata": {},
   "outputs": [],
   "source": [
    "ba_dir = '/Users/knuth/Downloads/friedrich_historical/ba29_v2/'\n",
    "img_dir = '/Users/knuth/Downloads/friedrich_historical/'"
   ]
  },
  {
   "cell_type": "code",
   "execution_count": 3,
   "metadata": {},
   "outputs": [
    {
     "name": "stdout",
     "output_type": "stream",
     "text": [
      "plotting interest points over images...\n",
      "converting interest point files (vwip) to csv...\n",
      "plotting match points over images...\n",
      "converting match point files to csv...\n",
      "processing clean.match files only.\n",
      "converting match point files to csv...\n",
      "processing clean.match files only.\n",
      "plotting residuals before and after bundle adjustment...\n"
     ]
    }
   ],
   "source": [
    "dgtm.run_all_qc(ba_dir,img_dir,img_extension='8.tif')"
   ]
  },
  {
   "cell_type": "code",
   "execution_count": null,
   "metadata": {},
   "outputs": [],
   "source": [
    "dgtm.plot_mp_over_images(ba_dir, \n",
    "                         img_dir, \n",
    "                         img_extension='8.tif',\n",
    "                         out_dir='qc_plots/match_points/')"
   ]
  },
  {
   "cell_type": "code",
   "execution_count": null,
   "metadata": {},
   "outputs": [],
   "source": [
    "dgtm.plot_ip_over_images(ba_dir, \n",
    "                         img_dir, \n",
    "                         img_extension='8.tif',\n",
    "                         out_dir='qc_plots/interest_points/')"
   ]
  },
  {
   "cell_type": "code",
   "execution_count": null,
   "metadata": {},
   "outputs": [],
   "source": [
    "dgtm.plot_dxdy(ba_dir, \n",
    "               out_dir='qc_plots/dxdy')"
   ]
  },
  {
   "cell_type": "code",
   "execution_count": null,
   "metadata": {},
   "outputs": [],
   "source": [
    "dgtm.plot_residuals(ba_dir)"
   ]
  },
  {
   "cell_type": "code",
   "execution_count": null,
   "metadata": {},
   "outputs": [],
   "source": []
  }
 ],
 "metadata": {
  "kernelspec": {
   "display_name": "dgtm",
   "language": "python",
   "name": "dgtm"
  },
  "language_info": {
   "codemirror_mode": {
    "name": "ipython",
    "version": 3
   },
   "file_extension": ".py",
   "mimetype": "text/x-python",
   "name": "python",
   "nbconvert_exporter": "python",
   "pygments_lexer": "ipython3",
   "version": "3.7.1"
  }
 },
 "nbformat": 4,
 "nbformat_minor": 2
}
