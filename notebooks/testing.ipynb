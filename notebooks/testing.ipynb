{
 "cells": [
  {
   "cell_type": "code",
   "execution_count": 1,
   "metadata": {},
   "outputs": [],
   "source": [
    "import subprocess\n",
    "import os\n",
    "import pandas as pd\n",
    "import glob\n",
    "from skimage import io\n",
    "import matplotlib.pyplot as plt\n",
    "import numpy as np\n",
    "from osgeo import gdal\n",
    "import funcs as dgtm\n",
    "from pathlib import Path"
   ]
  },
  {
   "cell_type": "code",
   "execution_count": 2,
   "metadata": {},
   "outputs": [],
   "source": [
    "ba_dir = '/Users/knuth/Downloads/friedrich_historical/ba29_v2/'\n",
    "img_dir = '/Users/knuth/Downloads/friedrich_historical/'"
   ]
  },
  {
   "cell_type": "code",
   "execution_count": 3,
   "metadata": {},
   "outputs": [],
   "source": [
    "dgtm.plot_mp_over_images(ba_dir, \n",
    "                         img_dir, \n",
    "                         img_extension='8.tif',\n",
    "                         out_dir='qc_plots/match_points/')"
   ]
  },
  {
   "cell_type": "code",
   "execution_count": 4,
   "metadata": {},
   "outputs": [],
   "source": [
    "dgtm.plot_ip_over_images(ba_dir, \n",
    "                         img_dir, \n",
    "                         img_extension='8.tif',\n",
    "                         out_dir='qc_plots/interest_points/')"
   ]
  },
  {
   "cell_type": "code",
   "execution_count": 5,
   "metadata": {},
   "outputs": [
    {
     "name": "stdout",
     "output_type": "stream",
     "text": [
      "converting match point files to csv...\n",
      "processing clean.match files only.\n"
     ]
    }
   ],
   "source": [
    "dgtm.plot_dxdy(ba_dir, \n",
    "               out_dir='qc_plots/dxdy')"
   ]
  },
  {
   "cell_type": "code",
   "execution_count": null,
   "metadata": {},
   "outputs": [],
   "source": []
  }
 ],
 "metadata": {
  "kernelspec": {
   "display_name": "dgtm",
   "language": "python",
   "name": "dgtm"
  },
  "language_info": {
   "codemirror_mode": {
    "name": "ipython",
    "version": 3
   },
   "file_extension": ".py",
   "mimetype": "text/x-python",
   "name": "python",
   "nbconvert_exporter": "python",
   "pygments_lexer": "ipython3",
   "version": "3.7.1"
  }
 },
 "nbformat": 4,
 "nbformat_minor": 2
}
